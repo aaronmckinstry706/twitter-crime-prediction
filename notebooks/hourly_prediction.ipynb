{
 "cells": [
  {
   "cell_type": "code",
   "execution_count": 1,
   "metadata": {
    "collapsed": true
   },
   "outputs": [],
   "source": [
    "import numpy as np\n",
    "import pandas as pd\n",
    "import nltk\n",
    "import re\n",
    "import os\n",
    "import codecs\n",
    "from sklearn import feature_extraction\n",
    "import matplotlib.pyplot as plt\n",
    "import geopandas as gp\n",
    "from shapely.geometry import Point, Polygon\n",
    "\n",
    "%matplotlib inline \n"
   ]
  },
  {
   "cell_type": "code",
   "execution_count": 2,
   "metadata": {
    "collapsed": true
   },
   "outputs": [],
   "source": [
    "df = pd.read_csv('./NYPD_Complaint_Map__Year_to_Date_.csv')"
   ]
  },
  {
   "cell_type": "code",
   "execution_count": 3,
   "metadata": {
    "collapsed": true
   },
   "outputs": [],
   "source": [
    "df2 = pd.read_csv('./NYPD_Complaint_Data_Current_YTD.csv')"
   ]
  },
  {
   "cell_type": "code",
   "execution_count": 4,
   "metadata": {
    "collapsed": true
   },
   "outputs": [],
   "source": [
    "df_3 = pd.read_csv('./temp.csv')"
   ]
  },
  {
   "cell_type": "code",
   "execution_count": 5,
   "metadata": {},
   "outputs": [
    {
     "data": {
      "text/html": [
       "<div>\n",
       "<style>\n",
       "    .dataframe thead tr:only-child th {\n",
       "        text-align: right;\n",
       "    }\n",
       "\n",
       "    .dataframe thead th {\n",
       "        text-align: left;\n",
       "    }\n",
       "\n",
       "    .dataframe tbody tr th {\n",
       "        vertical-align: top;\n",
       "    }\n",
       "</style>\n",
       "<table border=\"1\" class=\"dataframe\">\n",
       "  <thead>\n",
       "    <tr style=\"text-align: right;\">\n",
       "      <th></th>\n",
       "      <th>id</th>\n",
       "      <th>timestamp</th>\n",
       "      <th>lon</th>\n",
       "      <th>lat</th>\n",
       "      <th>tweet</th>\n",
       "      <th>user_id</th>\n",
       "      <th>rtwts</th>\n",
       "      <th>fvrts</th>\n",
       "      <th>application</th>\n",
       "      <th>source</th>\n",
       "    </tr>\n",
       "  </thead>\n",
       "  <tbody>\n",
       "    <tr>\n",
       "      <th>0</th>\n",
       "      <td>767446336819957760</td>\n",
       "      <td>1471822839</td>\n",
       "      <td>40.574567</td>\n",
       "      <td>-73.980458</td>\n",
       "      <td>Yesterday's Video Shoot For #BEENON Dropping S...</td>\n",
       "      <td>213162943</td>\n",
       "      <td>0</td>\n",
       "      <td>0</td>\n",
       "      <td>Instagram</td>\n",
       "      <td>CUSP2_2016-08-21 15:43</td>\n",
       "    </tr>\n",
       "    <tr>\n",
       "      <th>1</th>\n",
       "      <td>767446493091467264</td>\n",
       "      <td>1471822877</td>\n",
       "      <td>40.572950</td>\n",
       "      <td>-73.987450</td>\n",
       "      <td>@dibellaent action begins live at the fordampc...</td>\n",
       "      <td>75603452</td>\n",
       "      <td>0</td>\n",
       "      <td>0</td>\n",
       "      <td>Instagram</td>\n",
       "      <td>CUSP2_2016-08-21 15:43</td>\n",
       "    </tr>\n",
       "    <tr>\n",
       "      <th>2</th>\n",
       "      <td>767446529061912576</td>\n",
       "      <td>1471822885</td>\n",
       "      <td>40.655670</td>\n",
       "      <td>-74.006943</td>\n",
       "      <td>#salsadancing with @mhernandez8444 @ Industry ...</td>\n",
       "      <td>204875947</td>\n",
       "      <td>0</td>\n",
       "      <td>0</td>\n",
       "      <td>Instagram</td>\n",
       "      <td>CUSP2_2016-08-21 15:43</td>\n",
       "    </tr>\n",
       "    <tr>\n",
       "      <th>3</th>\n",
       "      <td>767446726047301633</td>\n",
       "      <td>1471822932</td>\n",
       "      <td>40.589544</td>\n",
       "      <td>-74.065854</td>\n",
       "      <td>Ainda em NYC. @ South Beach at Staten Is. NY h...</td>\n",
       "      <td>23276698</td>\n",
       "      <td>0</td>\n",
       "      <td>0</td>\n",
       "      <td>Instagram</td>\n",
       "      <td>CUSP2_2016-08-21 15:43</td>\n",
       "    </tr>\n",
       "    <tr>\n",
       "      <th>4</th>\n",
       "      <td>767446834935689218</td>\n",
       "      <td>1471822958</td>\n",
       "      <td>40.690019</td>\n",
       "      <td>-74.187507</td>\n",
       "      <td>Ya quiero salir de acá. (@ National Car Rental...</td>\n",
       "      <td>377058948</td>\n",
       "      <td>0</td>\n",
       "      <td>0</td>\n",
       "      <td>Foursquare</td>\n",
       "      <td>CUSP2_2016-08-21 15:43</td>\n",
       "    </tr>\n",
       "  </tbody>\n",
       "</table>\n",
       "</div>"
      ],
      "text/plain": [
       "                   id   timestamp        lon        lat  \\\n",
       "0  767446336819957760  1471822839  40.574567 -73.980458   \n",
       "1  767446493091467264  1471822877  40.572950 -73.987450   \n",
       "2  767446529061912576  1471822885  40.655670 -74.006943   \n",
       "3  767446726047301633  1471822932  40.589544 -74.065854   \n",
       "4  767446834935689218  1471822958  40.690019 -74.187507   \n",
       "\n",
       "                                               tweet    user_id  rtwts  fvrts  \\\n",
       "0  Yesterday's Video Shoot For #BEENON Dropping S...  213162943      0      0   \n",
       "1  @dibellaent action begins live at the fordampc...   75603452      0      0   \n",
       "2  #salsadancing with @mhernandez8444 @ Industry ...  204875947      0      0   \n",
       "3  Ainda em NYC. @ South Beach at Staten Is. NY h...   23276698      0      0   \n",
       "4  Ya quiero salir de acá. (@ National Car Rental...  377058948      0      0   \n",
       "\n",
       "  application                  source  \n",
       "0   Instagram  CUSP2_2016-08-21 15:43  \n",
       "1   Instagram  CUSP2_2016-08-21 15:43  \n",
       "2   Instagram  CUSP2_2016-08-21 15:43  \n",
       "3   Instagram  CUSP2_2016-08-21 15:43  \n",
       "4  Foursquare  CUSP2_2016-08-21 15:43  "
      ]
     },
     "execution_count": 5,
     "metadata": {},
     "output_type": "execute_result"
    }
   ],
   "source": [
    "df_3.head()"
   ]
  },
  {
   "cell_type": "code",
   "execution_count": 6,
   "metadata": {
    "collapsed": true
   },
   "outputs": [],
   "source": [
    "df_3['date']= pd.to_datetime(df_3['timestamp'].astype(int), unit='s')"
   ]
  },
  {
   "cell_type": "code",
   "execution_count": 7,
   "metadata": {
    "collapsed": true
   },
   "outputs": [],
   "source": [
    "df_3['month'] = df_3['date'].dt.month"
   ]
  },
  {
   "cell_type": "code",
   "execution_count": 8,
   "metadata": {
    "scrolled": true
   },
   "outputs": [
    {
     "data": {
      "text/html": [
       "<div>\n",
       "<style>\n",
       "    .dataframe thead tr:only-child th {\n",
       "        text-align: right;\n",
       "    }\n",
       "\n",
       "    .dataframe thead th {\n",
       "        text-align: left;\n",
       "    }\n",
       "\n",
       "    .dataframe tbody tr th {\n",
       "        vertical-align: top;\n",
       "    }\n",
       "</style>\n",
       "<table border=\"1\" class=\"dataframe\">\n",
       "  <thead>\n",
       "    <tr style=\"text-align: right;\">\n",
       "      <th></th>\n",
       "      <th>id</th>\n",
       "      <th>timestamp</th>\n",
       "      <th>lon</th>\n",
       "      <th>lat</th>\n",
       "      <th>tweet</th>\n",
       "      <th>user_id</th>\n",
       "      <th>rtwts</th>\n",
       "      <th>fvrts</th>\n",
       "      <th>application</th>\n",
       "      <th>source</th>\n",
       "      <th>date</th>\n",
       "    </tr>\n",
       "    <tr>\n",
       "      <th>month</th>\n",
       "      <th></th>\n",
       "      <th></th>\n",
       "      <th></th>\n",
       "      <th></th>\n",
       "      <th></th>\n",
       "      <th></th>\n",
       "      <th></th>\n",
       "      <th></th>\n",
       "      <th></th>\n",
       "      <th></th>\n",
       "      <th></th>\n",
       "    </tr>\n",
       "  </thead>\n",
       "  <tbody>\n",
       "    <tr>\n",
       "      <th>8</th>\n",
       "      <td>59546</td>\n",
       "      <td>59546</td>\n",
       "      <td>59546</td>\n",
       "      <td>59546</td>\n",
       "      <td>59546</td>\n",
       "      <td>59546</td>\n",
       "      <td>59546</td>\n",
       "      <td>59546</td>\n",
       "      <td>59546</td>\n",
       "      <td>59546</td>\n",
       "      <td>59546</td>\n",
       "    </tr>\n",
       "    <tr>\n",
       "      <th>9</th>\n",
       "      <td>190469</td>\n",
       "      <td>190469</td>\n",
       "      <td>190469</td>\n",
       "      <td>190469</td>\n",
       "      <td>190469</td>\n",
       "      <td>190469</td>\n",
       "      <td>190469</td>\n",
       "      <td>190469</td>\n",
       "      <td>190469</td>\n",
       "      <td>190469</td>\n",
       "      <td>190469</td>\n",
       "    </tr>\n",
       "    <tr>\n",
       "      <th>11</th>\n",
       "      <td>26107</td>\n",
       "      <td>26107</td>\n",
       "      <td>26107</td>\n",
       "      <td>26107</td>\n",
       "      <td>26107</td>\n",
       "      <td>26107</td>\n",
       "      <td>26107</td>\n",
       "      <td>26107</td>\n",
       "      <td>26107</td>\n",
       "      <td>26107</td>\n",
       "      <td>26107</td>\n",
       "    </tr>\n",
       "  </tbody>\n",
       "</table>\n",
       "</div>"
      ],
      "text/plain": [
       "           id  timestamp     lon     lat   tweet  user_id   rtwts   fvrts  \\\n",
       "month                                                                       \n",
       "8       59546      59546   59546   59546   59546    59546   59546   59546   \n",
       "9      190469     190469  190469  190469  190469   190469  190469  190469   \n",
       "11      26107      26107   26107   26107   26107    26107   26107   26107   \n",
       "\n",
       "       application  source    date  \n",
       "month                               \n",
       "8            59546   59546   59546  \n",
       "9           190469  190469  190469  \n",
       "11           26107   26107   26107  "
      ]
     },
     "execution_count": 8,
     "metadata": {},
     "output_type": "execute_result"
    }
   ],
   "source": [
    "df_3.groupby('month').count()"
   ]
  },
  {
   "cell_type": "code",
   "execution_count": 9,
   "metadata": {
    "collapsed": true
   },
   "outputs": [],
   "source": [
    "df_4 = df_3.drop([\"application\", \"source\", 'timestamp'],1)"
   ]
  },
  {
   "cell_type": "code",
   "execution_count": 10,
   "metadata": {
    "collapsed": true
   },
   "outputs": [],
   "source": [
    "from textblob import TextBlob\n",
    "def tweetTosentiment(tweets):\n",
    "    try:\n",
    "        text_blob = TextBlob(tweets)\n",
    "        sentiment = text_blob.sentiment\n",
    "        result = sentiment.polarity\n",
    "    except:\n",
    "        result = np.nan\n",
    "    \n",
    "    return result"
   ]
  },
  {
   "cell_type": "code",
   "execution_count": 11,
   "metadata": {
    "collapsed": true
   },
   "outputs": [],
   "source": [
    "df_3['polarity'] = df_3['tweet'].apply(tweetTosentiment)"
   ]
  },
  {
   "cell_type": "code",
   "execution_count": 12,
   "metadata": {},
   "outputs": [
    {
     "data": {
      "text/plain": [
       "<matplotlib.axes._subplots.AxesSubplot at 0x1261b4d30>"
      ]
     },
     "execution_count": 12,
     "metadata": {},
     "output_type": "execute_result"
    },
    {
     "data": {
      "image/png": "[encoded data removed]",
      "text/plain": [
       "<matplotlib.figure.Figure at 0x111168a90>"
      ]
     },
     "metadata": {},
     "output_type": "display_data"
    }
   ],
   "source": [
    "df_3['polarity'].hist(bins=50)"
   ]
  },
  {
   "cell_type": "code",
   "execution_count": 13,
   "metadata": {
    "collapsed": true
   },
   "outputs": [],
   "source": [
    "zipcode = gp.read_file('./ZIP_CODE_040114/ZIP_CODE_040114.shp')"
   ]
  },
  {
   "cell_type": "code",
   "execution_count": 14,
   "metadata": {
    "collapsed": true
   },
   "outputs": [],
   "source": [
    "zipcode = zipcode.to_crs(epsg=4326)[[\"POPULATION\",\"ZIPCODE\", 'geometry']]"
   ]
  },
  {
   "cell_type": "code",
   "execution_count": 15,
   "metadata": {
    "collapsed": true
   },
   "outputs": [],
   "source": [
    "police_pricint = gp.read_file('./nypp_17b/nypp.shp')"
   ]
  },
  {
   "cell_type": "code",
   "execution_count": 16,
   "metadata": {
    "collapsed": true
   },
   "outputs": [],
   "source": [
    "police_pricint = police_pricint.to_crs(epsg=4326)"
   ]
  },
  {
   "cell_type": "code",
   "execution_count": 21,
   "metadata": {
    "collapsed": true
   },
   "outputs": [],
   "source": [
    "geometry = [Point(xy) for xy in zip(df_3.lat, df_3.lon)]\n",
    "crs = {'init': 'epsg:4326'}\n",
    "geo_df = gp.GeoDataFrame(df_3, crs=crs, geometry=geometry)"
   ]
  },
  {
   "cell_type": "code",
   "execution_count": 22,
   "metadata": {},
   "outputs": [
    {
     "name": "stdout",
     "output_type": "stream",
     "text": [
      "Warning: CRS does not match!\n"
     ]
    }
   ],
   "source": [
    "result = gp.sjoin(geo_df, police_pricint, how=\"inner\", op='within')"
   ]
  },
  {
   "cell_type": "code",
   "execution_count": 23,
   "metadata": {},
   "outputs": [
    {
     "data": {
      "text/plain": [
       "35221"
      ]
     },
     "execution_count": 23,
     "metadata": {},
     "output_type": "execute_result"
    }
   ],
   "source": [
    "df_3.shape[0] - result.shape[0]"
   ]
  },
  {
   "cell_type": "code",
   "execution_count": 24,
   "metadata": {
    "collapsed": true
   },
   "outputs": [],
   "source": [
    "result['date_h']= result['date'].dt.strftime(\"%Y-%m-%d %H\")"
   ]
  },
  {
   "cell_type": "code",
   "execution_count": 25,
   "metadata": {
    "collapsed": true
   },
   "outputs": [],
   "source": [
    "#c = pd.DataFrame(result.groupby(['ZIPCODE', 'date_h'])['tweet'].apply(list))\n",
    "c = pd.DataFrame(result.groupby(['Precinct', 'date_h'])['tweet'].apply(list))"
   ]
  },
  {
   "cell_type": "code",
   "execution_count": 26,
   "metadata": {
    "collapsed": true
   },
   "outputs": [],
   "source": [
    "from sklearn.feature_extraction.text import TfidfVectorizer, CountVectorizer\n",
    "\n",
    "no_features = 100\n",
    "\n",
    "def tfidf(tweet):  \n",
    "    # NMF is able to use tf-idf\n",
    "    tfidf_vectorizer = TfidfVectorizer(max_df=1, min_df=0., \n",
    "                                       max_features=no_features, \n",
    "                                       stop_words='english')\n",
    "    try:\n",
    "        return tfidf_vectorizer.fit_transform(tweet)\n",
    "    except:\n",
    "        return np.nan\n",
    "\n",
    "c['tfidf'] = c['tweet'].apply(tfidf)\n",
    "#tfidf = tfidf_vectorizer.fit_transform(documents)\n",
    "#tfidf_feature_names = tfidf_vectorizer.get_feature_names()\n",
    "def tf(tweet):  \n",
    "    # NMF is able to use tf-idf\n",
    "    tf_vectorizer = CountVectorizer(max_df=1, min_df=0, \n",
    "                                   max_features=no_features, \n",
    "                                    stop_words='english')\n",
    "    try:\n",
    "        return tf_vectorizer.fit_transform(tweet)\n",
    "    except:\n",
    "        return np.nan\n",
    "\n",
    "\n",
    "# LDA can only use raw term counts for LDA because it is a probabilistic graphical model\n",
    "#tf_vectorizer = CountVectorizer(max_df=0.95, min_df=2, max_features=no_features, stop_words='english')\n",
    "c['tf'] = c['tweet'].apply(tf)\n",
    "#tf_feature_names = tf_vectorizer.get_feature_names()\n"
   ]
  },
  {
   "cell_type": "code",
   "execution_count": 27,
   "metadata": {
    "collapsed": true
   },
   "outputs": [],
   "source": [
    "from sklearn.decomposition import NMF, LatentDirichletAllocation\n",
    "\n",
    "no_topics = 5\n",
    "\n",
    "\n",
    "def nmf(tfidf):  \n",
    "    # NMF is able to use tf-idf\n",
    "    nmf_fit = NMF(n_components=no_topics, \n",
    "                                random_state=1, \n",
    "                                alpha=.1, \n",
    "                                l1_ratio=.5, init='nndsvd')\n",
    "    try:\n",
    "        return nmf_fit.fit_transform(tf)\n",
    "    except:\n",
    "        return np.nan\n",
    "    \n",
    "def lda(tf):  \n",
    "    # NMF is able to use tf-idf\n",
    "    lda_fit = LatentDirichletAllocation(n_topics=no_topics, \n",
    "                                        max_iter=5, \n",
    "                                        learning_method='online', \n",
    "                                        learning_offset=50.,\n",
    "                                        random_state=0)\n",
    "    try:\n",
    "        return lda_fit.fit_transform(tf).mean(axis=0)\n",
    "    except:\n",
    "        return np.nan\n"
   ]
  },
  {
   "cell_type": "code",
   "execution_count": 28,
   "metadata": {
    "collapsed": true,
    "scrolled": false
   },
   "outputs": [],
   "source": [
    "# Run NMF\n",
    "c['nmf'] = c['tfidf'].apply(nmf)\n",
    "# # Run LDA\n",
    "# #lda = LatentDirichletAllocation(n_topics=no_topics, max_iter=5, learning_method='online', learning_offset=50.,random_state=0).fit(tf)\n",
    "c['lda'] = c['tf'].apply(lda)"
   ]
  },
  {
   "cell_type": "code",
   "execution_count": null,
   "metadata": {
    "collapsed": true
   },
   "outputs": [],
   "source": []
  },
  {
   "cell_type": "code",
   "execution_count": 111,
   "metadata": {},
   "outputs": [
    {
     "data": {
      "text/html": [
       "<div>\n",
       "<style>\n",
       "    .dataframe thead tr:only-child th {\n",
       "        text-align: right;\n",
       "    }\n",
       "\n",
       "    .dataframe thead th {\n",
       "        text-align: left;\n",
       "    }\n",
       "\n",
       "    .dataframe tbody tr th {\n",
       "        vertical-align: top;\n",
       "    }\n",
       "</style>\n",
       "<table border=\"1\" class=\"dataframe\">\n",
       "  <thead>\n",
       "    <tr style=\"text-align: right;\">\n",
       "      <th></th>\n",
       "      <th>id</th>\n",
       "      <th>timestamp</th>\n",
       "      <th>lon</th>\n",
       "      <th>lat</th>\n",
       "      <th>tweet</th>\n",
       "      <th>user_id</th>\n",
       "      <th>rtwts</th>\n",
       "      <th>fvrts</th>\n",
       "      <th>application</th>\n",
       "      <th>source</th>\n",
       "      <th>date</th>\n",
       "      <th>month</th>\n",
       "      <th>polarity</th>\n",
       "      <th>geometry</th>\n",
       "      <th>index_right</th>\n",
       "      <th>Precinct</th>\n",
       "      <th>Shape_Area</th>\n",
       "      <th>Shape_Leng</th>\n",
       "      <th>date_h</th>\n",
       "    </tr>\n",
       "  </thead>\n",
       "  <tbody>\n",
       "    <tr>\n",
       "      <th>0</th>\n",
       "      <td>767446336819957760</td>\n",
       "      <td>1471822839</td>\n",
       "      <td>40.574567</td>\n",
       "      <td>-73.980458</td>\n",
       "      <td>Yesterday's Video Shoot For #BEENON Dropping S...</td>\n",
       "      <td>213162943</td>\n",
       "      <td>0</td>\n",
       "      <td>0</td>\n",
       "      <td>Instagram</td>\n",
       "      <td>CUSP2_2016-08-21 15:43</td>\n",
       "      <td>2016-08-21 23:40:39</td>\n",
       "      <td>8</td>\n",
       "      <td>0.000000</td>\n",
       "      <td>POINT (-73.98045807 40.5745674)</td>\n",
       "      <td>34</td>\n",
       "      <td>60</td>\n",
       "      <td>8.816956e+07</td>\n",
       "      <td>66157.635733</td>\n",
       "      <td>2016-08-21 23</td>\n",
       "    </tr>\n",
       "    <tr>\n",
       "      <th>1</th>\n",
       "      <td>767446493091467264</td>\n",
       "      <td>1471822877</td>\n",
       "      <td>40.572950</td>\n",
       "      <td>-73.987450</td>\n",
       "      <td>@dibellaent action begins live at the fordampc...</td>\n",
       "      <td>75603452</td>\n",
       "      <td>0</td>\n",
       "      <td>0</td>\n",
       "      <td>Instagram</td>\n",
       "      <td>CUSP2_2016-08-21 15:43</td>\n",
       "      <td>2016-08-21 23:41:17</td>\n",
       "      <td>8</td>\n",
       "      <td>0.124242</td>\n",
       "      <td>POINT (-73.98745 40.57295)</td>\n",
       "      <td>34</td>\n",
       "      <td>60</td>\n",
       "      <td>8.816956e+07</td>\n",
       "      <td>66157.635733</td>\n",
       "      <td>2016-08-21 23</td>\n",
       "    </tr>\n",
       "    <tr>\n",
       "      <th>64</th>\n",
       "      <td>767449996740337664</td>\n",
       "      <td>1471823712</td>\n",
       "      <td>40.572950</td>\n",
       "      <td>-73.987450</td>\n",
       "      <td>Far Rock's Joseph Williams is putting in work ...</td>\n",
       "      <td>428659031</td>\n",
       "      <td>0</td>\n",
       "      <td>0</td>\n",
       "      <td>Instagram</td>\n",
       "      <td>CUSP2_2016-08-21 15:43</td>\n",
       "      <td>2016-08-21 23:55:12</td>\n",
       "      <td>8</td>\n",
       "      <td>0.100000</td>\n",
       "      <td>POINT (-73.98745 40.57295)</td>\n",
       "      <td>34</td>\n",
       "      <td>60</td>\n",
       "      <td>8.816956e+07</td>\n",
       "      <td>66157.635733</td>\n",
       "      <td>2016-08-21 23</td>\n",
       "    </tr>\n",
       "    <tr>\n",
       "      <th>114</th>\n",
       "      <td>767451293673721856</td>\n",
       "      <td>1471824021</td>\n",
       "      <td>40.572950</td>\n",
       "      <td>-73.987450</td>\n",
       "      <td>Having fun with the girls! lilgladiator #pbcbo...</td>\n",
       "      <td>24374586</td>\n",
       "      <td>1</td>\n",
       "      <td>1</td>\n",
       "      <td>Instagram</td>\n",
       "      <td>CUSP2_2016-08-21 16:00</td>\n",
       "      <td>2016-08-22 00:00:21</td>\n",
       "      <td>8</td>\n",
       "      <td>0.375000</td>\n",
       "      <td>POINT (-73.98745 40.57295)</td>\n",
       "      <td>34</td>\n",
       "      <td>60</td>\n",
       "      <td>8.816956e+07</td>\n",
       "      <td>66157.635733</td>\n",
       "      <td>2016-08-22 00</td>\n",
       "    </tr>\n",
       "    <tr>\n",
       "      <th>166</th>\n",
       "      <td>767454152972652544</td>\n",
       "      <td>1471824703</td>\n",
       "      <td>40.572950</td>\n",
       "      <td>-73.987450</td>\n",
       "      <td>@jmackwilliams scores a 6 round ud decision 60...</td>\n",
       "      <td>600449920</td>\n",
       "      <td>0</td>\n",
       "      <td>0</td>\n",
       "      <td>Instagram</td>\n",
       "      <td>CUSP2_2016-08-21 16:00</td>\n",
       "      <td>2016-08-22 00:11:43</td>\n",
       "      <td>8</td>\n",
       "      <td>-0.200000</td>\n",
       "      <td>POINT (-73.98745 40.57295)</td>\n",
       "      <td>34</td>\n",
       "      <td>60</td>\n",
       "      <td>8.816956e+07</td>\n",
       "      <td>66157.635733</td>\n",
       "      <td>2016-08-22 00</td>\n",
       "    </tr>\n",
       "  </tbody>\n",
       "</table>\n",
       "</div>"
      ],
      "text/plain": [
       "                     id   timestamp        lon        lat  \\\n",
       "0    767446336819957760  1471822839  40.574567 -73.980458   \n",
       "1    767446493091467264  1471822877  40.572950 -73.987450   \n",
       "64   767449996740337664  1471823712  40.572950 -73.987450   \n",
       "114  767451293673721856  1471824021  40.572950 -73.987450   \n",
       "166  767454152972652544  1471824703  40.572950 -73.987450   \n",
       "\n",
       "                                                 tweet    user_id  rtwts  \\\n",
       "0    Yesterday's Video Shoot For #BEENON Dropping S...  213162943      0   \n",
       "1    @dibellaent action begins live at the fordampc...   75603452      0   \n",
       "64   Far Rock's Joseph Williams is putting in work ...  428659031      0   \n",
       "114  Having fun with the girls! lilgladiator #pbcbo...   24374586      1   \n",
       "166  @jmackwilliams scores a 6 round ud decision 60...  600449920      0   \n",
       "\n",
       "     fvrts application                  source                date  month  \\\n",
       "0        0   Instagram  CUSP2_2016-08-21 15:43 2016-08-21 23:40:39      8   \n",
       "1        0   Instagram  CUSP2_2016-08-21 15:43 2016-08-21 23:41:17      8   \n",
       "64       0   Instagram  CUSP2_2016-08-21 15:43 2016-08-21 23:55:12      8   \n",
       "114      1   Instagram  CUSP2_2016-08-21 16:00 2016-08-22 00:00:21      8   \n",
       "166      0   Instagram  CUSP2_2016-08-21 16:00 2016-08-22 00:11:43      8   \n",
       "\n",
       "     polarity                         geometry  index_right  Precinct  \\\n",
       "0    0.000000  POINT (-73.98045807 40.5745674)           34        60   \n",
       "1    0.124242       POINT (-73.98745 40.57295)           34        60   \n",
       "64   0.100000       POINT (-73.98745 40.57295)           34        60   \n",
       "114  0.375000       POINT (-73.98745 40.57295)           34        60   \n",
       "166 -0.200000       POINT (-73.98745 40.57295)           34        60   \n",
       "\n",
       "       Shape_Area    Shape_Leng         date_h  \n",
       "0    8.816956e+07  66157.635733  2016-08-21 23  \n",
       "1    8.816956e+07  66157.635733  2016-08-21 23  \n",
       "64   8.816956e+07  66157.635733  2016-08-21 23  \n",
       "114  8.816956e+07  66157.635733  2016-08-22 00  \n",
       "166  8.816956e+07  66157.635733  2016-08-22 00  "
      ]
     },
     "execution_count": 111,
     "metadata": {},
     "output_type": "execute_result"
    }
   ],
   "source": [
    "result.head()"
   ]
  },
  {
   "cell_type": "code",
   "execution_count": 112,
   "metadata": {
    "collapsed": true
   },
   "outputs": [],
   "source": [
    "sentiment_retweet = pd.DataFrame(result.groupby(['Precinct','date_h'])['polarity', 'rtwts', 'fvrts'].mean())"
   ]
  },
  {
   "cell_type": "code",
   "execution_count": 113,
   "metadata": {
    "collapsed": true
   },
   "outputs": [],
   "source": [
    "tweet_counts = pd.DataFrame(result.groupby(['Precinct','date_h']).size())"
   ]
  },
  {
   "cell_type": "code",
   "execution_count": 29,
   "metadata": {},
   "outputs": [],
   "source": [
    "import pickle\n",
    "pickle.dump(c, open('c_frame.pkl','wb'))\n",
    "tweet_counts = pickle.load(open('tweet_counts_2.pkl', 'rb'))\n",
    "sentiment_retweet = pickle.load(open('sentiment_retweet_2.pkl', 'rb'))"
   ]
  },
  {
   "cell_type": "code",
   "execution_count": 30,
   "metadata": {
    "collapsed": true
   },
   "outputs": [],
   "source": [
    "new_frame = sentiment_retweet.join(tweet_counts)"
   ]
  },
  {
   "cell_type": "code",
   "execution_count": 31,
   "metadata": {},
   "outputs": [],
   "source": [
    "new_frame[['topic_{}'.format(i) for i in range(5)]] = c['lda'].apply(pd.Series)"
   ]
  },
  {
   "cell_type": "code",
   "execution_count": 32,
   "metadata": {
    "collapsed": true
   },
   "outputs": [],
   "source": [
    "new_frame = new_frame.rename(columns={0:'counts'})"
   ]
  },
  {
   "cell_type": "code",
   "execution_count": 33,
   "metadata": {
    "collapsed": true
   },
   "outputs": [],
   "source": [
    "new_frame = new_frame.reset_index()"
   ]
  },
  {
   "cell_type": "code",
   "execution_count": 34,
   "metadata": {
    "collapsed": true
   },
   "outputs": [],
   "source": [
    "new_frame['date_h'] = new_frame['date_h'].apply(pd.to_datetime)\n",
    "new_frame['dayofweek'] = new_frame['date_h'].dt.dayofweek\n",
    "new_frame['month'] = new_frame['date_h'].dt.month\n",
    "new_frame['hour'] = new_frame['date_h'].dt.hour"
   ]
  },
  {
   "cell_type": "code",
   "execution_count": 35,
   "metadata": {
    "collapsed": true
   },
   "outputs": [],
   "source": [
    "new_frame = new_frame.sort_values(by='date_h')"
   ]
  },
  {
   "cell_type": "code",
   "execution_count": 40,
   "metadata": {},
   "outputs": [
    {
     "data": {
      "text/plain": [
       "array([  1, 102,  19, 104,  18,  17, 107, 108,  14, 109,  13,  10, 114,\n",
       "       115,   6,   5, 101, 122, 100,  22,  43,  47,  40,  60,  34,  67,\n",
       "        32,  68,  72,  28,  75,  77,  78,  83,  23,  94, 123,  90,  45,\n",
       "        79,  25,  26,  30,  66,  33,  62,  61,  52,  50,  41,  49,  42,\n",
       "        48,  81,  24,  84,   9, 113, 112, 111, 110, 105, 121, 103,  20,\n",
       "       106,  46,  44,  63,  73, 120,  88,  69,   7,  70,  76,  71])"
      ]
     },
     "execution_count": 40,
     "metadata": {},
     "output_type": "execute_result"
    }
   ],
   "source": [
    "new_frame.Precinct.unique()"
   ]
  },
  {
   "cell_type": "code",
   "execution_count": 37,
   "metadata": {
    "collapsed": true
   },
   "outputs": [],
   "source": [
    "x_train = new_frame[new_frame['month'] != 11]\n",
    "x_test = new_frame[new_frame['month'] == 11]"
   ]
  },
  {
   "cell_type": "code",
   "execution_count": 44,
   "metadata": {
    "collapsed": true
   },
   "outputs": [],
   "source": [
    "crime = pd.read_csv('./NYPD_Complaint_Data_Current_YTD.csv')\n",
    "crime['date_h'] = crime['CMPLNT_TO_DT'] + \" \" +  crime['CMPLNT_TO_TM']\n",
    "crime['date_h'] = pd.to_datetime(crime['date_h'], format=\"%m/%d/%Y %H:%M:%S\", errors='coerce')\n",
    "#crime = crime.sort_values(by='date_h')"
   ]
  },
  {
   "cell_type": "code",
   "execution_count": 45,
   "metadata": {},
   "outputs": [
    {
     "data": {
      "text/html": [
       "<div>\n",
       "<style>\n",
       "    .dataframe thead tr:only-child th {\n",
       "        text-align: right;\n",
       "    }\n",
       "\n",
       "    .dataframe thead th {\n",
       "        text-align: left;\n",
       "    }\n",
       "\n",
       "    .dataframe tbody tr th {\n",
       "        vertical-align: top;\n",
       "    }\n",
       "</style>\n",
       "<table border=\"1\" class=\"dataframe\">\n",
       "  <thead>\n",
       "    <tr style=\"text-align: right;\">\n",
       "      <th></th>\n",
       "      <th>CMPLNT_NUM</th>\n",
       "      <th>CMPLNT_FR_DT</th>\n",
       "      <th>CMPLNT_FR_TM</th>\n",
       "      <th>CMPLNT_TO_DT</th>\n",
       "      <th>CMPLNT_TO_TM</th>\n",
       "      <th>RPT_DT</th>\n",
       "      <th>KY_CD</th>\n",
       "      <th>OFNS_DESC</th>\n",
       "      <th>PD_CD</th>\n",
       "      <th>PD_DESC</th>\n",
       "      <th>...</th>\n",
       "      <th>LOC_OF_OCCUR_DESC</th>\n",
       "      <th>PREM_TYP_DESC</th>\n",
       "      <th>PARKS_NM</th>\n",
       "      <th>HADEVELOPT</th>\n",
       "      <th>X_COORD_CD</th>\n",
       "      <th>Y_COORD_CD</th>\n",
       "      <th>Latitude</th>\n",
       "      <th>Longitude</th>\n",
       "      <th>Lat_Lon</th>\n",
       "      <th>date_h</th>\n",
       "    </tr>\n",
       "  </thead>\n",
       "  <tbody>\n",
       "    <tr>\n",
       "      <th>0</th>\n",
       "      <td>845348933</td>\n",
       "      <td>03/31/2017</td>\n",
       "      <td>23:30:00</td>\n",
       "      <td>NaN</td>\n",
       "      <td>NaN</td>\n",
       "      <td>03/31/2017</td>\n",
       "      <td>578</td>\n",
       "      <td>HARRASSMENT 2</td>\n",
       "      <td>638.0</td>\n",
       "      <td>HARASSMENT,SUBD 3,4,5</td>\n",
       "      <td>...</td>\n",
       "      <td>INSIDE</td>\n",
       "      <td>RESIDENCE - APT. HOUSE</td>\n",
       "      <td>NaN</td>\n",
       "      <td>NaN</td>\n",
       "      <td>1012423.0</td>\n",
       "      <td>171737.0</td>\n",
       "      <td>40.638018</td>\n",
       "      <td>-73.898491</td>\n",
       "      <td>(40.638018389, -73.898491201)</td>\n",
       "      <td>NaT</td>\n",
       "    </tr>\n",
       "    <tr>\n",
       "      <th>1</th>\n",
       "      <td>886921338</td>\n",
       "      <td>03/31/2017</td>\n",
       "      <td>23:25:00</td>\n",
       "      <td>03/31/2017</td>\n",
       "      <td>23:30:00</td>\n",
       "      <td>03/31/2017</td>\n",
       "      <td>344</td>\n",
       "      <td>ASSAULT 3 &amp; RELATED OFFENSES</td>\n",
       "      <td>101.0</td>\n",
       "      <td>ASSAULT 3</td>\n",
       "      <td>...</td>\n",
       "      <td>NaN</td>\n",
       "      <td>STREET</td>\n",
       "      <td>NaN</td>\n",
       "      <td>NaN</td>\n",
       "      <td>987466.0</td>\n",
       "      <td>215861.0</td>\n",
       "      <td>40.759173</td>\n",
       "      <td>-73.988393</td>\n",
       "      <td>(40.759172699, -73.988392793)</td>\n",
       "      <td>2017-03-31 23:30:00</td>\n",
       "    </tr>\n",
       "    <tr>\n",
       "      <th>2</th>\n",
       "      <td>893265998</td>\n",
       "      <td>03/31/2017</td>\n",
       "      <td>23:15:00</td>\n",
       "      <td>03/31/2017</td>\n",
       "      <td>23:25:00</td>\n",
       "      <td>03/31/2017</td>\n",
       "      <td>105</td>\n",
       "      <td>ROBBERY</td>\n",
       "      <td>394.0</td>\n",
       "      <td>ROBBERY,LICENSED FOR HIRE VEHICLE</td>\n",
       "      <td>...</td>\n",
       "      <td>FRONT OF</td>\n",
       "      <td>TAXI (LIVERY LICENSED)</td>\n",
       "      <td>NaN</td>\n",
       "      <td>NaN</td>\n",
       "      <td>1010502.0</td>\n",
       "      <td>245411.0</td>\n",
       "      <td>40.840241</td>\n",
       "      <td>-73.905125</td>\n",
       "      <td>(40.84024096, -73.905125257)</td>\n",
       "      <td>2017-03-31 23:25:00</td>\n",
       "    </tr>\n",
       "    <tr>\n",
       "      <th>3</th>\n",
       "      <td>518511851</td>\n",
       "      <td>03/31/2017</td>\n",
       "      <td>23:00:00</td>\n",
       "      <td>03/31/2017</td>\n",
       "      <td>23:10:00</td>\n",
       "      <td>03/31/2017</td>\n",
       "      <td>364</td>\n",
       "      <td>OTHER STATE LAWS (NON PENAL LA</td>\n",
       "      <td>809.0</td>\n",
       "      <td>TAX LAW</td>\n",
       "      <td>...</td>\n",
       "      <td>INSIDE</td>\n",
       "      <td>GROCERY/BODEGA</td>\n",
       "      <td>NaN</td>\n",
       "      <td>NaN</td>\n",
       "      <td>1023622.0</td>\n",
       "      <td>253318.0</td>\n",
       "      <td>40.861895</td>\n",
       "      <td>-73.857662</td>\n",
       "      <td>(40.861894559, -73.85766248)</td>\n",
       "      <td>2017-03-31 23:10:00</td>\n",
       "    </tr>\n",
       "    <tr>\n",
       "      <th>4</th>\n",
       "      <td>541009476</td>\n",
       "      <td>03/31/2017</td>\n",
       "      <td>22:55:00</td>\n",
       "      <td>03/31/2017</td>\n",
       "      <td>22:59:00</td>\n",
       "      <td>03/31/2017</td>\n",
       "      <td>235</td>\n",
       "      <td>DANGEROUS DRUGS</td>\n",
       "      <td>511.0</td>\n",
       "      <td>CONTROLLED SUBSTANCE, POSSESSI</td>\n",
       "      <td>...</td>\n",
       "      <td>FRONT OF</td>\n",
       "      <td>STREET</td>\n",
       "      <td>NaN</td>\n",
       "      <td>NaN</td>\n",
       "      <td>977956.0</td>\n",
       "      <td>167273.0</td>\n",
       "      <td>40.625808</td>\n",
       "      <td>-74.022675</td>\n",
       "      <td>(40.625808217, -74.022675222)</td>\n",
       "      <td>2017-03-31 22:59:00</td>\n",
       "    </tr>\n",
       "  </tbody>\n",
       "</table>\n",
       "<p>5 rows × 25 columns</p>\n",
       "</div>"
      ],
      "text/plain": [
       "   CMPLNT_NUM CMPLNT_FR_DT CMPLNT_FR_TM CMPLNT_TO_DT CMPLNT_TO_TM      RPT_DT  \\\n",
       "0   845348933   03/31/2017     23:30:00          NaN          NaN  03/31/2017   \n",
       "1   886921338   03/31/2017     23:25:00   03/31/2017     23:30:00  03/31/2017   \n",
       "2   893265998   03/31/2017     23:15:00   03/31/2017     23:25:00  03/31/2017   \n",
       "3   518511851   03/31/2017     23:00:00   03/31/2017     23:10:00  03/31/2017   \n",
       "4   541009476   03/31/2017     22:55:00   03/31/2017     22:59:00  03/31/2017   \n",
       "\n",
       "   KY_CD                       OFNS_DESC  PD_CD  \\\n",
       "0    578                   HARRASSMENT 2  638.0   \n",
       "1    344    ASSAULT 3 & RELATED OFFENSES  101.0   \n",
       "2    105                         ROBBERY  394.0   \n",
       "3    364  OTHER STATE LAWS (NON PENAL LA  809.0   \n",
       "4    235                 DANGEROUS DRUGS  511.0   \n",
       "\n",
       "                             PD_DESC         ...         LOC_OF_OCCUR_DESC  \\\n",
       "0              HARASSMENT,SUBD 3,4,5         ...                    INSIDE   \n",
       "1                          ASSAULT 3         ...                       NaN   \n",
       "2  ROBBERY,LICENSED FOR HIRE VEHICLE         ...                  FRONT OF   \n",
       "3                            TAX LAW         ...                    INSIDE   \n",
       "4     CONTROLLED SUBSTANCE, POSSESSI         ...                  FRONT OF   \n",
       "\n",
       "            PREM_TYP_DESC PARKS_NM HADEVELOPT  X_COORD_CD Y_COORD_CD  \\\n",
       "0  RESIDENCE - APT. HOUSE      NaN        NaN   1012423.0   171737.0   \n",
       "1                  STREET      NaN        NaN    987466.0   215861.0   \n",
       "2  TAXI (LIVERY LICENSED)      NaN        NaN   1010502.0   245411.0   \n",
       "3          GROCERY/BODEGA      NaN        NaN   1023622.0   253318.0   \n",
       "4                  STREET      NaN        NaN    977956.0   167273.0   \n",
       "\n",
       "    Latitude  Longitude                        Lat_Lon              date_h  \n",
       "0  40.638018 -73.898491  (40.638018389, -73.898491201)                 NaT  \n",
       "1  40.759173 -73.988393  (40.759172699, -73.988392793) 2017-03-31 23:30:00  \n",
       "2  40.840241 -73.905125   (40.84024096, -73.905125257) 2017-03-31 23:25:00  \n",
       "3  40.861895 -73.857662   (40.861894559, -73.85766248) 2017-03-31 23:10:00  \n",
       "4  40.625808 -74.022675  (40.625808217, -74.022675222) 2017-03-31 22:59:00  \n",
       "\n",
       "[5 rows x 25 columns]"
      ]
     },
     "execution_count": 45,
     "metadata": {},
     "output_type": "execute_result"
    }
   ],
   "source": [
    "crime.head()"
   ]
  },
  {
   "cell_type": "code",
   "execution_count": 57,
   "metadata": {
    "scrolled": true
   },
   "outputs": [
    {
     "name": "stdout",
     "output_type": "stream",
     "text": [
      "Warning: CRS does not match!\n"
     ]
    }
   ],
   "source": [
    "crime = crime.dropna(subset=[\"Latitude\", \"Longitude\"])\n",
    "geometry = [Point(xy) for xy in zip(crime.Longitude, crime.Latitude)]\n",
    "crs = {'init': 'epsg:4326'}\n",
    "crime['geometry'] = geometry\n",
    "geo_df_crime = gp.GeoDataFrame(crime, crs=crs, geometry=geometry)\n",
    "result_crime = gp.sjoin(geo_df_crime, police_pricint, how=\"inner\", op='intersects')"
   ]
  },
  {
   "cell_type": "code",
   "execution_count": 62,
   "metadata": {
    "collapsed": true
   },
   "outputs": [],
   "source": [
    "crime = result_crime.copy()\n",
    "crime = crime.sort_values(by='date_h')"
   ]
  },
  {
   "cell_type": "code",
   "execution_count": 98,
   "metadata": {},
   "outputs": [],
   "source": [
    "from datetime import timedelta\n",
    "crime['date_h'] = crime['date_h'] - timedelta(hours=1)"
   ]
  },
  {
   "cell_type": "code",
   "execution_count": 99,
   "metadata": {
    "collapsed": true
   },
   "outputs": [],
   "source": [
    "crime['month'] = crime['date_h'].dt.month\n",
    "crime['year'] = crime['date_h'].dt.year"
   ]
  },
  {
   "cell_type": "code",
   "execution_count": 100,
   "metadata": {
    "collapsed": true
   },
   "outputs": [],
   "source": [
    "train_target = crime[(crime['year'] == 2016) & ((crime['month']>7) & (crime['month']<10))]\n",
    "train_crime_counts = pd.DataFrame(train_target.groupby(['Precinct','date_h']).size()).rename(columns={0: 'next_hour_crime'})"
   ]
  },
  {
   "cell_type": "code",
   "execution_count": 110,
   "metadata": {},
   "outputs": [],
   "source": [
    "test_target = crime[(crime['year'] == 2016) & ((crime['month']==11))]\n",
    "test_crime_counts = pd.DataFrame(test_target.groupby(['Precinct','date_h']).size()).rename(columns={0: 'next_hour_crime'})\n",
    "#test_crime_counts = test_crime_counts.sort_values(by='date_h')"
   ]
  },
  {
   "cell_type": "code",
   "execution_count": 136,
   "metadata": {},
   "outputs": [],
   "source": [
    "train_x = x_train.set_index(['Precinct','date_h']).join(train_crime_counts, how='left').reset_index('Precinct')\n",
    "test_x = x_test.set_index(['Precinct','date_h']).join(test_crime_counts, how='left').reset_index('Precinct')"
   ]
  },
  {
   "cell_type": "code",
   "execution_count": 142,
   "metadata": {
    "collapsed": true
   },
   "outputs": [],
   "source": [
    "train_x['next_hour_crime'] = train_x['next_hour_crime'].apply(lambda x: 1 if x>0 else 0)\n",
    "train_x[['Precinct','dayofweek', 'month', 'hour']] = train_x[['Precinct','dayofweek', 'month', 'hour']].astype(str)"
   ]
  },
  {
   "cell_type": "code",
   "execution_count": 143,
   "metadata": {
    "collapsed": true
   },
   "outputs": [],
   "source": [
    "test_x['next_hour_crime'] = test_x['next_hour_crime'].apply(lambda x: 1 if x>0 else 0)\n",
    "test_x[['Precinct','dayofweek', 'month', 'hour']] = test_x[['Precinct','dayofweek', 'month', 'hour']].astype(str)"
   ]
  },
  {
   "cell_type": "code",
   "execution_count": 150,
   "metadata": {
    "collapsed": true
   },
   "outputs": [],
   "source": [
    "from collections import defaultdict\n",
    "from sklearn.preprocessing import LabelEncoder\n",
    "def imputation(X):\n",
    "    d = defaultdict(LabelEncoder)\n",
    "    # Encoding the variable \n",
    "    X_cat = X[['Precinct','dayofweek', 'month', 'hour']]\n",
    "    X_cat = X_cat.fillna('NAN')\n",
    "    X_cat = X_cat.apply(lambda x: d[x.name].fit_transform(x))\n",
    "    X_float = X[[\"polarity\", \"rtwts\", \"fvrts\", \"counts\", \"topic_0\", \"topic_1\",\"topic_2\", \"topic_3\", \"topic_4\"]]\n",
    "    X_float = X_float.fillna(X_float.mean())\n",
    "    return pd.concat([X_cat, X_float], axis=1)"
   ]
  },
  {
   "cell_type": "code",
   "execution_count": 151,
   "metadata": {
    "collapsed": true
   },
   "outputs": [],
   "source": [
    "imputed_x = imputation(train_x.iloc[:,:-1])\n",
    "Y = train_x.iloc[:,-1]"
   ]
  },
  {
   "cell_type": "code",
   "execution_count": 152,
   "metadata": {
    "collapsed": true
   },
   "outputs": [],
   "source": [
    "imputed_x_test = imputation(test_x.iloc[:,:-1])\n",
    "Y_test = test_x.iloc[:,-1]"
   ]
  },
  {
   "cell_type": "code",
   "execution_count": 153,
   "metadata": {},
   "outputs": [],
   "source": [
    "import matplotlib.pyplot as plt\n",
    "import numpy as np\n",
    "import pandas as pd\n",
    "from sklearn.cross_validation import StratifiedKFold\n",
    "from sklearn.ensemble import RandomForestClassifier, RandomForestRegressor\n",
    "cv = StratifiedKFold(Y, n_folds=6, random_state=111, shuffle=True)\n",
    "clf = RandomForestClassifier(random_state=111)\n",
    "all_im = []\n",
    "for train, test in cv:\n",
    "        clf.fit(imputed_x.iloc[train], Y.iloc[train])\n",
    "        all_im.append(clf.feature_importances_)\n",
    "        \n",
    "importance_value = np.average(all_im, axis=0)\n",
    "importance = pd.DataFrame(importance_value, index=imputed_x.columns.values, \n",
    "                          columns=[\"Importance\"])"
   ]
  },
  {
   "cell_type": "code",
   "execution_count": 154,
   "metadata": {},
   "outputs": [
    {
     "data": {
      "image/png": "[encoded data removed]",
      "text/plain": [
       "<matplotlib.figure.Figure at 0x139698550>"
      ]
     },
     "metadata": {},
     "output_type": "display_data"
    }
   ],
   "source": [
    "importance.sort_values(by='Importance', ascending=True).tail(10).plot(kind='barh', figsize=(14,5))\n",
    "plt.show()\n"
   ]
  },
  {
   "cell_type": "code",
   "execution_count": 155,
   "metadata": {
    "collapsed": true
   },
   "outputs": [],
   "source": [
    "def plot_confusion_matrix(cm, classes,\n",
    "                          normalize=False,\n",
    "                          title='Confusion matrix',\n",
    "                          cmap=plt.cm.Blues):\n",
    "    \"\"\"\n",
    "    This function prints and plots the confusion matrix.\n",
    "    Normalization can be applied by setting `normalize=True`.\n",
    "    \"\"\"\n",
    "    \n",
    "    \n",
    "    plt.imshow(cm, interpolation='nearest', cmap=cmap)\n",
    "    plt.title(title)\n",
    "    plt.colorbar()\n",
    "    tick_marks = np.arange(len(classes))\n",
    "    plt.xticks(tick_marks, classes, rotation=45)\n",
    "    plt.yticks(tick_marks, classes)\n",
    "\n",
    "    if normalize:\n",
    "        cm = cm.astype('float') / cm.sum(axis=1)[:, np.newaxis]\n",
    "        np.set_printoptions(precision=2)\n",
    "        print(\"Normalized confusion matrix\")\n",
    "    else:\n",
    "        print('Confusion matrix, without normalization')\n",
    "\n",
    "    print(cm)\n",
    "\n",
    "    thresh = cm.max() / 2.\n",
    "    for i, j in itertools.product(range(cm.shape[0]), range(cm.shape[1])):\n",
    "        plt.text(j, i, round(cm[i, j], 3),\n",
    "                 horizontalalignment=\"center\",\n",
    "                 color=\"white\" if cm[i, j] > thresh else \"black\")\n",
    "\n",
    "    plt.tight_layout()\n",
    "    plt.ylabel('True label')\n",
    "    plt.xlabel('Predicted label')"
   ]
  },
  {
   "cell_type": "code",
   "execution_count": null,
   "metadata": {
    "collapsed": true
   },
   "outputs": [],
   "source": [
    "plot_confusion_matrix"
   ]
  },
  {
   "cell_type": "code",
   "execution_count": 156,
   "metadata": {},
   "outputs": [
    {
     "name": "stdout",
     "output_type": "stream",
     "text": [
      "[ 0.99906977  0.99906962  0.99906962  0.99906962  0.99922457  0.99922457] 0.999121294758\n"
     ]
    }
   ],
   "source": [
    "from sklearn.model_selection import cross_val_score\n",
    "cross_val = cross_val_score(clf, imputed_x, Y, cv=cv)\n",
    "mean_accuracy = np.mean(cross_val)\n",
    "\n",
    "print (cross_val, mean_accuracy)"
   ]
  },
  {
   "cell_type": "code",
   "execution_count": 169,
   "metadata": {},
   "outputs": [
    {
     "data": {
      "image/png": "[encoded data removed]",
      "text/plain": [
       "<matplotlib.figure.Figure at 0x14ae45f98>"
      ]
     },
     "metadata": {},
     "output_type": "display_data"
    }
   ],
   "source": [
    "from scipy import interp\n",
    "from itertools import cycle\n",
    "from sklearn.metrics import roc_curve, auc, roc_auc_score\n",
    "# Run classifier with cross-validation and plot ROC curves\n",
    "plt.figure(figsize=(14,8))\n",
    "classifier = RandomForestClassifier(n_estimators=10, criterion='gini', \n",
    "                             max_depth=3, min_samples_split=30, \n",
    "                             min_samples_leaf=100,random_state=111)\n",
    "mean_tpr = 0.0\n",
    "mean_fpr = np.linspace(0, 1, 100)\n",
    "\n",
    "colors = cycle(['cyan', 'indigo', 'seagreen', 'yellow', 'blue', 'darkorange'])\n",
    "lw = 2\n",
    "\n",
    "i = 0\n",
    "for (train, test), color in zip(cv, colors):\n",
    "    probas_ = classifier.fit(imputed_x.iloc[train], Y.iloc[train]).predict_proba(imputed_x.iloc[test])\n",
    "    # Compute ROC curve and area the curve\n",
    "    fpr, tpr, thresholds = roc_curve(Y.iloc[test].apply(int), probas_[:,1])\n",
    "    mean_tpr += interp(mean_fpr, fpr, tpr)\n",
    "    mean_tpr[0] = 0.0\n",
    "    roc_auc = auc(fpr, tpr)\n",
    "    plt.plot(fpr, tpr, lw=lw, color=color,\n",
    "             label='ROC fold %d (area = %0.2f)' % (i, roc_auc))\n",
    "\n",
    "    i += 1\n",
    "plt.plot([0, 1], [0, 1], linestyle='--', lw=lw, color='k',\n",
    "         label='Luck')\n",
    "\n",
    "mean_tpr /= 6.0\n",
    "mean_tpr[-1] = 1.0\n",
    "mean_auc = auc(mean_fpr, mean_tpr)\n",
    "plt.plot(mean_fpr, mean_tpr, color='g', linestyle='--',\n",
    "         label='Mean ROC (area = %0.2f)' % mean_auc, lw=lw)\n",
    "\n",
    "plt.xlim([-0.05, 1.05])\n",
    "plt.ylim([-0.05, 1.05])\n",
    "plt.xlabel('False Positive Rate')\n",
    "plt.ylabel('True Positive Rate')\n",
    "plt.title('crime prediction')\n",
    "plt.legend(loc=[1,0.3])\n",
    "plt.show()"
   ]
  },
  {
   "cell_type": "code",
   "execution_count": 171,
   "metadata": {},
   "outputs": [],
   "source": [
    "from sklearn.metrics import confusion_matrix\n",
    "cnf_matrix=[]\n",
    "all_im=[]\n",
    "for (train, test), color in zip(cv, colors):\n",
    "    y_pred = classifier.fit(imputed_x.iloc[train], Y.iloc[train]).predict(imputed_x.iloc[test])\n",
    "    all_im.append(classifier.feature_importances_)\n",
    "    cnf = confusion_matrix(Y.iloc[test], y_pred)\n",
    "    cnf_matrix.append(cnf)\n",
    "final_cnf = np.mean(cnf_matrix, axis=0)"
   ]
  },
  {
   "cell_type": "code",
   "execution_count": 172,
   "metadata": {
    "collapsed": true
   },
   "outputs": [],
   "source": [
    "def plot_confusion_matrix(cm, classes,\n",
    "                          normalize=False,\n",
    "                          title='Confusion matrix',\n",
    "                          cmap=plt.cm.Blues):\n",
    "    \"\"\"\n",
    "    This function prints and plots the confusion matrix.\n",
    "    Normalization can be applied by setting `normalize=True`.\n",
    "    \"\"\"\n",
    "    \n",
    "    \n",
    "    plt.imshow(cm, interpolation='nearest', cmap=cmap)\n",
    "    plt.title(title)\n",
    "    plt.colorbar()\n",
    "    tick_marks = np.arange(len(classes))\n",
    "    plt.xticks(tick_marks, classes, rotation=45)\n",
    "    plt.yticks(tick_marks, classes)\n",
    "\n",
    "    if normalize:\n",
    "        cm = cm.astype('float') / cm.sum(axis=1)[:, np.newaxis]\n",
    "        np.set_printoptions(precision=2)\n",
    "        print(\"Normalized confusion matrix\")\n",
    "    else:\n",
    "        print('Confusion matrix, without normalization')\n",
    "\n",
    "    print(cm)\n",
    "\n",
    "    thresh = cm.max() / 2.\n",
    "    for i, j in itertools.product(range(cm.shape[0]), range(cm.shape[1])):\n",
    "        plt.text(j, i, round(cm[i, j], 3),\n",
    "                 horizontalalignment=\"center\",\n",
    "                 color=\"white\" if cm[i, j] > thresh else \"black\")\n",
    "\n",
    "    plt.tight_layout()\n",
    "    plt.ylabel('True label')\n",
    "    plt.xlabel('Predicted label')"
   ]
  },
  {
   "cell_type": "code",
   "execution_count": 173,
   "metadata": {},
   "outputs": [
    {
     "name": "stdout",
     "output_type": "stream",
     "text": [
      "Normalized confusion matrix\n",
      "[[ 1.  0.]\n",
      " [ 1.  0.]]\n"
     ]
    },
    {
     "data": {
      "image/png": "[encoded data removed]",
      "text/plain": [
       "<matplotlib.figure.Figure at 0x1428b2da0>"
      ]
     },
     "metadata": {},
     "output_type": "display_data"
    }
   ],
   "source": [
    "import itertools\n",
    "# # Compute confusion matrix\n",
    "# cnf_matrix = confusion_matrix(y_test, y_pred)\n",
    "np.set_printoptions(precision=2)\n",
    "\n",
    "# # Plot non-normalized confusion matrix\n",
    "# plt.figure()\n",
    "# plot_confusion_matrix(np.mean(cnf_matrix, axis=0), classes=['NonDATs', 'DATs'],\n",
    "#                       title='Confusion matrix, without normalization')\n",
    "\n",
    "cnf_matrix_mean = np.mean(cnf_matrix, axis=0)\n",
    "# Plot normalized confusion matrix\n",
    "plt.figure()\n",
    "plot_confusion_matrix(cnf_matrix_mean, classes=['no crime', 'crime'], normalize=True,\n",
    "                      title='Random Forest confusion matrix')\n",
    "\n",
    "plt.show()"
   ]
  },
  {
   "cell_type": "code",
   "execution_count": null,
   "metadata": {
    "collapsed": true
   },
   "outputs": [],
   "source": []
  }
 ],
 "metadata": {
  "kernelspec": {
   "display_name": "Python [conda env:BigData]",
   "language": "python",
   "name": "conda-env-BigData-py"
  },
  "language_info": {
   "codemirror_mode": {
    "name": "ipython",
    "version": 3
   },
   "file_extension": ".py",
   "mimetype": "text/x-python",
   "name": "python",
   "nbconvert_exporter": "python",
   "pygments_lexer": "ipython3",
   "version": "3.5.3"
  },
  "widgets": {
   "state": {},
   "version": "1.1.2"
  }
 },
 "nbformat": 4,
 "nbformat_minor": 2
}
